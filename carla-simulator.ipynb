{
  "nbformat": 4,
  "nbformat_minor": 0,
  "metadata": {
    "colab": {
      "name": "carla-simulator.ipynb",
      "provenance": [],
      "collapsed_sections": [],
      "toc_visible": true,
      "include_colab_link": true
    },
    "kernelspec": {
      "name": "python3",
      "display_name": "Python 3"
    },
    "accelerator": "GPU",
    "widgets": {
      "application/vnd.jupyter.widget-state+json": {
        "45dcbcc10e04459ebd6d2dc681a6dbdd": {
          "model_module": "@jupyter-widgets/controls",
          "model_name": "LabelModel",
          "model_module_version": "1.5.0",
          "state": {
            "_dom_classes": [],
            "_model_module": "@jupyter-widgets/controls",
            "_model_module_version": "1.5.0",
            "_model_name": "LabelModel",
            "_view_count": null,
            "_view_module": "@jupyter-widgets/controls",
            "_view_module_version": "1.5.0",
            "_view_name": "LabelView",
            "description": "",
            "description_tooltip": null,
            "layout": "IPY_MODEL_5810f8111f21473b90b8f45690502eb1",
            "placeholder": "​",
            "style": "IPY_MODEL_a652b6e105914c068ad9dd32a566fb87",
            "value": "ssh-import-id: Installed ssh-import-id (amd64)"
          }
        },
        "5810f8111f21473b90b8f45690502eb1": {
          "model_module": "@jupyter-widgets/base",
          "model_name": "LayoutModel",
          "model_module_version": "1.2.0",
          "state": {
            "_model_module": "@jupyter-widgets/base",
            "_model_module_version": "1.2.0",
            "_model_name": "LayoutModel",
            "_view_count": null,
            "_view_module": "@jupyter-widgets/base",
            "_view_module_version": "1.2.0",
            "_view_name": "LayoutView",
            "align_content": null,
            "align_items": null,
            "align_self": null,
            "border": null,
            "bottom": null,
            "display": null,
            "flex": null,
            "flex_flow": null,
            "grid_area": null,
            "grid_auto_columns": null,
            "grid_auto_flow": null,
            "grid_auto_rows": null,
            "grid_column": null,
            "grid_gap": null,
            "grid_row": null,
            "grid_template_areas": null,
            "grid_template_columns": null,
            "grid_template_rows": null,
            "height": null,
            "justify_content": null,
            "justify_items": null,
            "left": null,
            "margin": null,
            "max_height": null,
            "max_width": null,
            "min_height": null,
            "min_width": null,
            "object_fit": null,
            "object_position": null,
            "order": null,
            "overflow": null,
            "overflow_x": null,
            "overflow_y": null,
            "padding": null,
            "right": null,
            "top": null,
            "visibility": null,
            "width": null
          }
        },
        "a652b6e105914c068ad9dd32a566fb87": {
          "model_module": "@jupyter-widgets/controls",
          "model_name": "DescriptionStyleModel",
          "model_module_version": "1.5.0",
          "state": {
            "_model_module": "@jupyter-widgets/controls",
            "_model_module_version": "1.5.0",
            "_model_name": "DescriptionStyleModel",
            "_view_count": null,
            "_view_module": "@jupyter-widgets/base",
            "_view_module_version": "1.2.0",
            "_view_name": "StyleView",
            "description_width": ""
          }
        },
        "fa575ff9f2024c47a80b07a15e7c8a08": {
          "model_module": "@jupyter-widgets/controls",
          "model_name": "FloatProgressModel",
          "model_module_version": "1.5.0",
          "state": {
            "_dom_classes": [],
            "_model_module": "@jupyter-widgets/controls",
            "_model_module_version": "1.5.0",
            "_model_name": "FloatProgressModel",
            "_view_count": null,
            "_view_module": "@jupyter-widgets/controls",
            "_view_module_version": "1.5.0",
            "_view_name": "ProgressView",
            "bar_style": "",
            "description": "",
            "description_tooltip": null,
            "layout": "IPY_MODEL_59dc1f9f107a410aa8ae4b479c14643c",
            "max": 1,
            "min": 0,
            "orientation": "horizontal",
            "style": "IPY_MODEL_6617573b4cc34683b9efaddc90a373dd",
            "value": 0.982143
          }
        },
        "59dc1f9f107a410aa8ae4b479c14643c": {
          "model_module": "@jupyter-widgets/base",
          "model_name": "LayoutModel",
          "model_module_version": "1.2.0",
          "state": {
            "_model_module": "@jupyter-widgets/base",
            "_model_module_version": "1.2.0",
            "_model_name": "LayoutModel",
            "_view_count": null,
            "_view_module": "@jupyter-widgets/base",
            "_view_module_version": "1.2.0",
            "_view_name": "LayoutView",
            "align_content": null,
            "align_items": null,
            "align_self": null,
            "border": "1px solid #118800",
            "bottom": null,
            "display": null,
            "flex": null,
            "flex_flow": null,
            "grid_area": null,
            "grid_auto_columns": null,
            "grid_auto_flow": null,
            "grid_auto_rows": null,
            "grid_column": null,
            "grid_gap": null,
            "grid_row": null,
            "grid_template_areas": null,
            "grid_template_columns": null,
            "grid_template_rows": null,
            "height": null,
            "justify_content": null,
            "justify_items": null,
            "left": null,
            "margin": null,
            "max_height": null,
            "max_width": null,
            "min_height": null,
            "min_width": null,
            "object_fit": null,
            "object_position": null,
            "order": null,
            "overflow": null,
            "overflow_x": null,
            "overflow_y": null,
            "padding": null,
            "right": null,
            "top": null,
            "visibility": null,
            "width": null
          }
        },
        "6617573b4cc34683b9efaddc90a373dd": {
          "model_module": "@jupyter-widgets/controls",
          "model_name": "ProgressStyleModel",
          "model_module_version": "1.5.0",
          "state": {
            "_model_module": "@jupyter-widgets/controls",
            "_model_module_version": "1.5.0",
            "_model_name": "ProgressStyleModel",
            "_view_count": null,
            "_view_module": "@jupyter-widgets/base",
            "_view_module_version": "1.2.0",
            "_view_name": "StyleView",
            "bar_color": null,
            "description_width": ""
          }
        },
        "8ae5971e9e164ea798294e350a33220e": {
          "model_module": "@jupyter-widgets/controls",
          "model_name": "LabelModel",
          "model_module_version": "1.5.0",
          "state": {
            "_dom_classes": [],
            "_model_module": "@jupyter-widgets/controls",
            "_model_module_version": "1.5.0",
            "_model_name": "LabelModel",
            "_view_count": null,
            "_view_module": "@jupyter-widgets/controls",
            "_view_module_version": "1.5.0",
            "_view_name": "LabelView",
            "description": "",
            "description_tooltip": null,
            "layout": "IPY_MODEL_fe115d3f1a6f4dc9a71247323d876ecf",
            "placeholder": "​",
            "style": "IPY_MODEL_df64537ba3f64332b1b79ab0ee3270b3",
            "value": "libxfce4ui-1-0: Preparing to configure libxfce4ui-1-0 (amd64)"
          }
        },
        "fe115d3f1a6f4dc9a71247323d876ecf": {
          "model_module": "@jupyter-widgets/base",
          "model_name": "LayoutModel",
          "model_module_version": "1.2.0",
          "state": {
            "_model_module": "@jupyter-widgets/base",
            "_model_module_version": "1.2.0",
            "_model_name": "LayoutModel",
            "_view_count": null,
            "_view_module": "@jupyter-widgets/base",
            "_view_module_version": "1.2.0",
            "_view_name": "LayoutView",
            "align_content": null,
            "align_items": null,
            "align_self": null,
            "border": null,
            "bottom": null,
            "display": null,
            "flex": null,
            "flex_flow": null,
            "grid_area": null,
            "grid_auto_columns": null,
            "grid_auto_flow": null,
            "grid_auto_rows": null,
            "grid_column": null,
            "grid_gap": null,
            "grid_row": null,
            "grid_template_areas": null,
            "grid_template_columns": null,
            "grid_template_rows": null,
            "height": null,
            "justify_content": null,
            "justify_items": null,
            "left": null,
            "margin": null,
            "max_height": null,
            "max_width": null,
            "min_height": null,
            "min_width": null,
            "object_fit": null,
            "object_position": null,
            "order": null,
            "overflow": null,
            "overflow_x": null,
            "overflow_y": null,
            "padding": null,
            "right": null,
            "top": null,
            "visibility": null,
            "width": null
          }
        },
        "df64537ba3f64332b1b79ab0ee3270b3": {
          "model_module": "@jupyter-widgets/controls",
          "model_name": "DescriptionStyleModel",
          "model_module_version": "1.5.0",
          "state": {
            "_model_module": "@jupyter-widgets/controls",
            "_model_module_version": "1.5.0",
            "_model_name": "DescriptionStyleModel",
            "_view_count": null,
            "_view_module": "@jupyter-widgets/base",
            "_view_module_version": "1.2.0",
            "_view_name": "StyleView",
            "description_width": ""
          }
        },
        "a62eded4751542549a4761335837f3c3": {
          "model_module": "@jupyter-widgets/controls",
          "model_name": "FloatProgressModel",
          "model_module_version": "1.5.0",
          "state": {
            "_dom_classes": [],
            "_model_module": "@jupyter-widgets/controls",
            "_model_module_version": "1.5.0",
            "_model_name": "FloatProgressModel",
            "_view_count": null,
            "_view_module": "@jupyter-widgets/controls",
            "_view_module_version": "1.5.0",
            "_view_name": "ProgressView",
            "bar_style": "",
            "description": "",
            "description_tooltip": null,
            "layout": "IPY_MODEL_2f23ebf3aa4549a0b2447c65cd6b4515",
            "max": 1,
            "min": 0,
            "orientation": "horizontal",
            "style": "IPY_MODEL_8586647e8820404bafd1593f56aa581b",
            "value": 0.058776999999999996
          }
        },
        "2f23ebf3aa4549a0b2447c65cd6b4515": {
          "model_module": "@jupyter-widgets/base",
          "model_name": "LayoutModel",
          "model_module_version": "1.2.0",
          "state": {
            "_model_module": "@jupyter-widgets/base",
            "_model_module_version": "1.2.0",
            "_model_name": "LayoutModel",
            "_view_count": null,
            "_view_module": "@jupyter-widgets/base",
            "_view_module_version": "1.2.0",
            "_view_name": "LayoutView",
            "align_content": null,
            "align_items": null,
            "align_self": null,
            "border": "1px solid #118800",
            "bottom": null,
            "display": null,
            "flex": null,
            "flex_flow": null,
            "grid_area": null,
            "grid_auto_columns": null,
            "grid_auto_flow": null,
            "grid_auto_rows": null,
            "grid_column": null,
            "grid_gap": null,
            "grid_row": null,
            "grid_template_areas": null,
            "grid_template_columns": null,
            "grid_template_rows": null,
            "height": null,
            "justify_content": null,
            "justify_items": null,
            "left": null,
            "margin": null,
            "max_height": null,
            "max_width": null,
            "min_height": null,
            "min_width": null,
            "object_fit": null,
            "object_position": null,
            "order": null,
            "overflow": null,
            "overflow_x": null,
            "overflow_y": null,
            "padding": null,
            "right": null,
            "top": null,
            "visibility": null,
            "width": null
          }
        },
        "8586647e8820404bafd1593f56aa581b": {
          "model_module": "@jupyter-widgets/controls",
          "model_name": "ProgressStyleModel",
          "model_module_version": "1.5.0",
          "state": {
            "_model_module": "@jupyter-widgets/controls",
            "_model_module_version": "1.5.0",
            "_model_name": "ProgressStyleModel",
            "_view_count": null,
            "_view_module": "@jupyter-widgets/base",
            "_view_module_version": "1.2.0",
            "_view_name": "StyleView",
            "bar_color": null,
            "description_width": ""
          }
        }
      }
    }
  },
  "cells": [
    {
      "cell_type": "markdown",
      "metadata": {
        "id": "view-in-github",
        "colab_type": "text"
      },
      "source": [
        "<a href=\"https://colab.research.google.com/github/pl-mich/v2xsim/blob/master/carla-simulator.ipynb\" target=\"_parent\"><img src=\"https://colab.research.google.com/assets/colab-badge.svg\" alt=\"Open In Colab\"/></a>"
      ]
    },
    {
      "cell_type": "markdown",
      "metadata": {
        "id": "gpY-9ehVv70N"
      },
      "source": [
        "# Running CARLA simulator\n",
        "This tutorial shows how to run and visualize CARLA on colab.\n",
        "\n",
        "\n",
        "\n",
        "<table class=\"tfo-notebook-buttons\" align=\"left\">\n",
        "  <td>\n",
        "    <a target=\"_blank\" href=\"https://colab.research.google.com/github/MichaelBosello/carla-colab/blob/master/carla-simulator.ipynb\">\n",
        "    <img src=\"https://www.tensorflow.org/images/colab_logo_32px.png\" />\n",
        "    Run in Google Colab</a>\n",
        "  </td>\n",
        "  <td>\n",
        "    <a target=\"_blank\" href=\"https://github.com/MichaelBosello/carla-colab\">\n",
        "    <img src=\"https://www.tensorflow.org/images/GitHub-Mark-32px.png\" />\n",
        "    View source on GitHub</a>\n",
        "  </td>\n",
        "</table>"
      ]
    },
    {
      "cell_type": "markdown",
      "metadata": {
        "id": "_HATkoTPmgg5"
      },
      "source": [
        "<img src=\"https://raw.githubusercontent.com/MichaelBosello/carla-colab/master/img/screen.png\" width=\"750\">"
      ]
    },
    {
      "cell_type": "markdown",
      "metadata": {
        "id": "Tsln_9Oc4rUR"
      },
      "source": [
        "---\n",
        "---\n",
        "---\n",
        "\n",
        "## Introduction\n",
        "[Carla](https://github.com/carla-simulator/carla) is an open-source simulator for autonomous driving research.\n",
        "\n",
        "Since it is hardware demanding, it could be useful for students to run it on colab.\n",
        "\n",
        "---\n",
        "\n",
        "## Acknowledgements\n",
        "\n",
        "Thanks to *Tomohiro*  for developing the code that allows remote access to colab.\n",
        "Check out his [page](https://internet-of-tomohiro.netlify.app/google_colab/vnc.en.html) and [GitHub](https://github.com/demotomohiro/remocolab).\n",
        "\n",
        "---\n",
        "\n",
        "## Update\n",
        "\n",
        "Ngrok doesn't work anymore with Google Colab (see [this issue](https://github.com/demotomohiro/remocolab/issues/79)). The tutorial has been updated to use Argo tunnel instead.\n",
        "\n",
        "---\n"
      ]
    },
    {
      "cell_type": "markdown",
      "metadata": {
        "id": "5jsE5t9G6nY4"
      },
      "source": [
        "## Requirements\n",
        "\n",
        "\n",
        "\n",
        "*   ~~[Ngrok](https://ngrok.com/) account (you don't need to buy premium plans).~~\n",
        "*   [Install cloudflared](https://developers.cloudflare.com/cloudflare-one/connections/connect-apps/install-and-setup/installation) on your PC.\n",
        "*   TurboVNC Viewer. [Download here](https://sourceforge.net/projects/turbovnc/). (RealVNC and Microsoft Remote Desktop __don't__ work).\n",
        "*   Ssh client (already present in all recent os).\n"
      ]
    },
    {
      "cell_type": "markdown",
      "metadata": {
        "id": "__kiSsQE-R7v"
      },
      "source": [
        "## Change the runtime\n",
        "In colab: click \"Runtime\" in the top bar -> \"Change runtime type\" -> change hardware accelerator to GPU."
      ]
    },
    {
      "cell_type": "markdown",
      "metadata": {
        "id": "-YdPX4a3_XFg"
      },
      "source": [
        "## Installation & setup of remote access \n",
        "\n",
        "\n",
        "\n",
        "1.   Run the snippet below\n",
        "2.   ~~It will ask for your ngrok authtoken.~~\n",
        "\n",
        "  *   ~~login to ngrok -> from the left menu: Authentication>Your Authroken -> copy~~\n",
        "  *   ~~Enter it~~\n",
        "\n",
        "3. ~~Select ngrok region (the region closest to you should be the fastest)~~\n",
        "4. Wait the end of the process\n",
        "  * It sets up OpenSSH server, VirtualGL and TurboVNC.\n",
        "  * Then, access passwords are shown\n",
        "\n"
      ]
    },
    {
      "cell_type": "code",
      "metadata": {
        "id": "w4Ywwr43AGR9",
        "outputId": "6e92efde-4491-4c2f-a863-49bb4a1c500c",
        "colab": {
          "base_uri": "https://localhost:8080/",
          "height": 548,
          "referenced_widgets": [
            "45dcbcc10e04459ebd6d2dc681a6dbdd",
            "5810f8111f21473b90b8f45690502eb1",
            "a652b6e105914c068ad9dd32a566fb87",
            "fa575ff9f2024c47a80b07a15e7c8a08",
            "59dc1f9f107a410aa8ae4b479c14643c",
            "6617573b4cc34683b9efaddc90a373dd",
            "8ae5971e9e164ea798294e350a33220e",
            "fe115d3f1a6f4dc9a71247323d876ecf",
            "df64537ba3f64332b1b79ab0ee3270b3",
            "a62eded4751542549a4761335837f3c3",
            "2f23ebf3aa4549a0b2447c65cd6b4515",
            "8586647e8820404bafd1593f56aa581b"
          ]
        }
      },
      "source": [
        "!pip install git+https://github.com/demotomohiro/remocolab.git\n",
        "import remocolab\n",
        "remocolab.setupVNC()"
      ],
      "execution_count": null,
      "outputs": [
        {
          "output_type": "stream",
          "name": "stdout",
          "text": [
            "Collecting git+https://github.com/demotomohiro/remocolab.git\n",
            "  Cloning https://github.com/demotomohiro/remocolab.git to /tmp/pip-req-build-fq1wc_hg\n",
            "  Running command git clone -q https://github.com/demotomohiro/remocolab.git /tmp/pip-req-build-fq1wc_hg\n",
            "Collecting pyngrok\n",
            "  Downloading pyngrok-5.1.0.tar.gz (745 kB)\n",
            "\u001b[K     |████████████████████████████████| 745 kB 11.8 MB/s \n",
            "\u001b[?25hRequirement already satisfied: PyYAML in /usr/local/lib/python3.7/dist-packages (from pyngrok->remocolab.py==0.1) (3.13)\n",
            "Building wheels for collected packages: remocolab.py, pyngrok\n",
            "  Building wheel for remocolab.py (setup.py) ... \u001b[?25l\u001b[?25hdone\n",
            "  Created wheel for remocolab.py: filename=remocolab.py-0.1-py3-none-any.whl size=7553 sha256=d164398af554ec34b4eea209d5cccf26f2ad8a69eef768e15df7da1f3d19a89e\n",
            "  Stored in directory: /tmp/pip-ephem-wheel-cache-7k9iqb5i/wheels/80/37/44/386e71ab0cd5aef5cefdb1926b710a42fdb4fe2d07c3b1b08f\n",
            "  Building wheel for pyngrok (setup.py) ... \u001b[?25l\u001b[?25hdone\n",
            "  Created wheel for pyngrok: filename=pyngrok-5.1.0-py3-none-any.whl size=19007 sha256=4cc903eda4303d9b770bd2deb8ba046dfa3e624012a2a500ec6f5e77ade6e02b\n",
            "  Stored in directory: /root/.cache/pip/wheels/bf/e6/af/ccf6598ecefecd44104069371795cb9b3afbcd16987f6ccfb3\n",
            "Successfully built remocolab.py pyngrok\n",
            "Installing collected packages: pyngrok, remocolab.py\n",
            "Successfully installed pyngrok-5.1.0 remocolab.py-0.1\n",
            "Warning! GPU of your assigned virtual machine is Tesla K80.\n",
            "You might get better GPU by reseting the runtime.\n",
            "Do you want to continue? [y/n] y\n",
            "---\n",
            "As ngrok doesn't work on colab for long time, default tunnel method has been changed to Argo tunnel.\n",
            "Please read this for more details:\n",
            "https://github.com/demotomohiro/remocolab/blob/master/README.md\n"
          ]
        },
        {
          "output_type": "display_data",
          "data": {
            "text/plain": [
              "Label(value='')"
            ],
            "application/vnd.jupyter.widget-view+json": {
              "version_major": 2,
              "version_minor": 0,
              "model_id": "45dcbcc10e04459ebd6d2dc681a6dbdd"
            }
          },
          "metadata": {}
        },
        {
          "output_type": "display_data",
          "data": {
            "text/plain": [
              "FloatProgress(value=0.0, layout=Layout(border='1px solid #118800'), max=1.0)"
            ],
            "application/vnd.jupyter.widget-view+json": {
              "version_major": 2,
              "version_minor": 0,
              "model_id": "fa575ff9f2024c47a80b07a15e7c8a08"
            }
          },
          "metadata": {}
        },
        {
          "output_type": "stream",
          "name": "stdout",
          "text": [
            "Install openssh-server\n"
          ]
        },
        {
          "output_type": "display_data",
          "data": {
            "text/plain": [
              "Label(value='')"
            ],
            "application/vnd.jupyter.widget-view+json": {
              "version_major": 2,
              "version_minor": 0,
              "model_id": "8ae5971e9e164ea798294e350a33220e"
            }
          },
          "metadata": {}
        },
        {
          "output_type": "display_data",
          "data": {
            "text/plain": [
              "FloatProgress(value=0.0, layout=Layout(border='1px solid #118800'), max=1.0)"
            ],
            "application/vnd.jupyter.widget-view+json": {
              "version_major": 2,
              "version_minor": 0,
              "model_id": "a62eded4751542549a4761335837f3c3"
            }
          },
          "metadata": {}
        },
        {
          "output_type": "stream",
          "name": "stdout",
          "text": [
            "Install xfce4\n",
            "Install xfce4-terminal\n"
          ]
        }
      ]
    },
    {
      "cell_type": "markdown",
      "metadata": {
        "id": "zbMpTEeFG_lO"
      },
      "source": [
        "## Connect TurboVNC\n",
        "\n",
        "1. Open a ssh connection to colab (It is necessary to secure VNC connection)\n",
        "  * Execute the ssh command showed above\n",
        "  * Use the \"colab password\" displayed above\n",
        "2. Run TurboVNC Viewer\n",
        "  * The connection address is `localhost:1`\n",
        "  * Use the \"VNC password\" displayed above\n",
        "\n",
        "\n",
        " if everything worked properly, you will see a screen."
      ]
    },
    {
      "cell_type": "markdown",
      "metadata": {
        "id": "d3OWsY6jNQqJ"
      },
      "source": [
        "## Download CARLA\n",
        "\n",
        "If you need another [version](https://github.com/carla-simulator/carla/blob/master/Docs/download.md) of CARLA, change the link below. You must choose a Linux version.\n",
        "\n"
      ]
    },
    {
      "cell_type": "code",
      "metadata": {
        "id": "rI7R3brAJgyQ"
      },
      "source": [
        "! sudo -u colab wget -O /home/colab/CARLA.tar.gz https://carla-releases.s3.eu-west-3.amazonaws.com/Linux/CARLA_0.9.10.tar.gz"
      ],
      "execution_count": null,
      "outputs": []
    },
    {
      "cell_type": "markdown",
      "metadata": {
        "id": "AozeZpibPB6u"
      },
      "source": [
        "## Extract the zip"
      ]
    },
    {
      "cell_type": "code",
      "metadata": {
        "id": "rfRiKysEL3eR"
      },
      "source": [
        "! sudo -u colab mkdir /home/colab/carla\n",
        "! sudo -u colab tar -xf /home/colab/CARLA.tar.gz -C /home/colab/carla"
      ],
      "execution_count": null,
      "outputs": []
    },
    {
      "cell_type": "markdown",
      "metadata": {
        "id": "BFrH9p95pjg2"
      },
      "source": [
        "## Setup PythonAPI\n",
        "\n",
        "The PythonAPI in the zip doesn't work with the current Colab Python version. If you change the Carla version, if you install another Python version, or if Google updates Colab, then you may not need to execute the following commands (or you may need to find another egg file accordingly)."
      ]
    },
    {
      "cell_type": "code",
      "metadata": {
        "id": "25tiIe4WsXpt"
      },
      "source": [
        "! sudo -u colab rm -rf /home/colab/carla/PythonAPI/carla/dist/*.egg"
      ],
      "execution_count": null,
      "outputs": []
    },
    {
      "cell_type": "code",
      "metadata": {
        "id": "FA5rNhxpp0zw"
      },
      "source": [
        "! sudo -u colab wget https://github.com/MichaelBosello/carla-colab/raw/master/carla-0.9.10-py3.6-linux-x86_64.egg -P /home/colab/carla/PythonAPI/carla/dist/"
      ],
      "execution_count": null,
      "outputs": []
    },
    {
      "cell_type": "markdown",
      "metadata": {
        "id": "m7kFVqEfT59y"
      },
      "source": [
        "## Run CARLA"
      ]
    },
    {
      "cell_type": "code",
      "metadata": {
        "id": "wok54OiA7E91"
      },
      "source": [
        "! sudo -u colab DISPLAY=:1 vglrun /home/colab/carla/CarlaUE4.sh"
      ],
      "execution_count": null,
      "outputs": []
    },
    {
      "cell_type": "markdown",
      "metadata": {
        "id": "61zYsUrmQ5T7"
      },
      "source": [
        "# Run client\n",
        "\n",
        "**You can run the client on colab or on your remote pc**\n",
        "\n",
        "---\n",
        "\n",
        "## Client on colab\n",
        "Run the following commands in a terminal on the remote desktop\n",
        "\n",
        "### Install requirement\n",
        "\n",
        "1. `sudo pip3 install pygame`\n",
        "\n",
        "  * The password for colab user is shown above\n",
        "\n",
        "### Run the 'manual control' example\n",
        "\n",
        "2. `cd /home/colab/carla/PythonAPI/examples`\n",
        "\n",
        "3. `python3 manual_control.py`\n",
        "\n",
        "---\n",
        "\n",
        "## Client on your pc\n",
        "\n",
        "Perform the following steps in your pc\n",
        "\n",
        "### Install requirements\n",
        "\n",
        "1. [install Carla](https://carla.readthedocs.io/en/latest/start_quickstart/#a-debian-carla-installation) (use the same version of the server)\n",
        "\n",
        "2. `pip3 install pygame`\n",
        "\n",
        "### Port forwarding\n",
        "\n",
        "You have to forward two ports in addition to the one used for VNC\n",
        "\n",
        "Copy the ssh command used for the VNC connection and run it with the port changed (change 5901 which is the VNC port). You have to run it two times (in two additional terminals) with those two ports: 2000 and 2001.\n",
        "\n",
        "**For example (note that you have to change YOUR_ISTANCE_PORT to the port specified in your command):**\n",
        "\n",
        "`ssh -o UserKnownHostsFile=/dev/null -o VisualHostKey=yes -p YOUR_ISTANCE_PORT -L 2000:localhost:2000 colab@2.tcp.eu.ngrok.io\n",
        "`\n",
        "\n",
        "`ssh -o UserKnownHostsFile=/dev/null -o VisualHostKey=yes -p YOUR_ISTANCE_PORT -L 2001:localhost:2001 colab@2.tcp.eu.ngrok.io\n",
        "`\n",
        "\n",
        "### Run the 'manual control' example\n",
        "\n",
        "1. `cd /opt/carla-simulator/PythonAPI/examples`\n",
        "\n",
        "2. `python3 manual_control.py`"
      ]
    },
    {
      "cell_type": "markdown",
      "metadata": {
        "id": "qmpPO81jUEh1"
      },
      "source": [
        "---\n",
        "---\n",
        "---\n",
        "\n",
        "# Extra\n",
        "\n",
        "\n",
        "\n",
        "\n",
        "## Display smooth animation\n",
        "Open TurboVNC Viewer options and change \"Encoding method\" to \"Tight + Medium-Quality JPEG\" or \"Tight + Low-Quality JPEG(WAN)\". Some noises could appear but it will look smoother.\n",
        "\n",
        "---\n",
        "## Tips\n",
        "\n",
        "### Keeping the virtual machine alive\n",
        "You may want to use [this Chrome extension](https://chrome.google.com/webstore/detail/colab-alive/eookkckfbbgnhdgcbfbicoahejkdoele).\n",
        "\n",
        "### How to transfer code\n",
        "Options:\n",
        "* Develop on your pc and use git to trasfer the code\n",
        "* Develop on your pc and mount your Google Drive from colab (see snippet below)\n",
        "* Install a code editor in the remote desktop (remember to save your code often on drive)\n",
        "\n",
        "### Training\n",
        "\n",
        "Save the checkpoints of your model on your Google Drive (see snippet below)\n",
        "\n"
      ]
    },
    {
      "cell_type": "code",
      "metadata": {
        "id": "qz4MypzAvltW"
      },
      "source": [
        "from google.colab import drive\n",
        "drive.mount('/content/drive')"
      ],
      "execution_count": null,
      "outputs": []
    },
    {
      "cell_type": "markdown",
      "metadata": {
        "id": "9EoV3sC1vr37"
      },
      "source": [
        "\n",
        "\n",
        "---\n",
        "\n",
        "## Notes\n",
        "\n",
        "\n",
        "\n",
        "### CARLA command\n",
        "\n",
        "The command to run the carla server is:\n",
        "\n",
        "`DISPLAY=:1 vglrun /home/colab/carla/CarlaUE4.sh`\n",
        "\n",
        "If you want to run the CARLA server in Python, you must use `subprocess.Popen` with the above command\n",
        "\n",
        "### Users and terminals\n",
        "\n",
        "The colab web-page runs commands as root. To execute them as a normal user I used `sudo -u colab`. This is necessary beacause __Unreal Engine can't be run as root__.\n",
        "\n",
        "If you prefer, you can use the same commands in the remote Desktop or ssh terminal without `sudo -u colab`.\n",
        "\n",
        "Python clients works only from the remote desktop or ssh client, and not from colab web-page. \n",
        "\n",
        "### Check OpenGL\n",
        "\n",
        "if you want to check the openGL implementation you can run in the remote desktop `vglrun /opt/VirtualGL/bin/glxinfo | grep NVIDIA`\n",
        "\n",
        "You should see something like:\n",
        "\n",
        "```\n",
        "OpenGL vendor string: NVIDIA Corporation\n",
        "OpenGL core profile version string: 4.6.0 NVIDIA 418.67\n",
        "OpenGL core profile shading language version string: 4.60 NVIDIA\n",
        "OpenGL version string: 4.6.0 NVIDIA 418.67\n",
        "OpenGL shading language version string: 4.60 NVIDIA\n",
        "```\n",
        "\n",
        "If you get errors, it could be the VNC viewer (again, use TurboVNC).\n",
        "\n",
        "### Closing Carla\n",
        "Close CARLA always from the remote desktop, if you interrupt the execution from the colab web-page you will interrupt also the VNC server."
      ]
    }
  ]
}